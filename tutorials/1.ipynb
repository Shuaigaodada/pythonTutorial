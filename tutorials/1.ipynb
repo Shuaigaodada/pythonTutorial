{
 "cells": [
  {
   "cell_type": "markdown",
   "metadata": {},
   "source": [
    "### 初入python\n",
    "\n",
    "通过之前的计算机基础课程后，我们已经理解了计算机基础是什么样的，\n",
    "因此我们将从最简单的语言`python`开始"
   ]
  },
  {
   "cell_type": "markdown",
   "metadata": {},
   "source": [
    "### 输出\n",
    "\n",
    "我们将要从一个 `Hello World!` 开始"
   ]
  },
  {
   "cell_type": "code",
   "execution_count": null,
   "metadata": {},
   "outputs": [],
   "source": [
    "print(\"Hello World!\")"
   ]
  },
  {
   "cell_type": "markdown",
   "metadata": {},
   "source": [
    "这是一个最简单的输出，我们也能很简单的看懂这段代码做了什么\n",
    "```python\n",
    "打印(\"你好世界!\")\n",
    "```\n",
    "没错就这么短短一句话，不需要引入任何头文件\n",
    "\n",
    "python这些是自带的函数"
   ]
  },
  {
   "cell_type": "markdown",
   "metadata": {},
   "source": [
    "### 变量"
   ]
  },
  {
   "cell_type": "code",
   "execution_count": null,
   "metadata": {},
   "outputs": [],
   "source": [
    "x = 10\n",
    "y = 20\n",
    "answer = x * y\n",
    "answer"
   ]
  },
  {
   "cell_type": "markdown",
   "metadata": {},
   "source": [
    "在 python 中你不需要确定变量的类型， python 中的所有变量都为变量容器。\n",
    "\n",
    "它可以储存所有的类型，因此只需要\n",
    "```python\n",
    "变量名 = 数据\n",
    "```\n",
    "就可以创建一个变量"
   ]
  },
  {
   "cell_type": "markdown",
   "metadata": {},
   "source": [
    "### 运算符\n",
    "\n",
    "python的运算符略有不同，接下来会用几个示例来展示"
   ]
  },
  {
   "cell_type": "code",
   "execution_count": null,
   "metadata": {},
   "outputs": [],
   "source": [
    "x = 1\n",
    "y = 2\n",
    "z = 3\n",
    "\n",
    "print(x + y + z) # 加法\n",
    "print(x - y - z) # 減法\n",
    "print(x * y * z) # 乘法\n",
    "print(x / y / z) # 除法\n",
    "print(x % y % z) # 除余\n",
    "print(x ** y ** z) # 次方"
   ]
  },
  {
   "cell_type": "markdown",
   "metadata": {},
   "source": [
    "### 循环\n",
    "接下来就要到计算机的重点了，`循环`\n",
    "\n",
    "循环有两种，让我们先来看示例"
   ]
  },
  {
   "cell_type": "code",
   "execution_count": null,
   "metadata": {},
   "outputs": [],
   "source": [
    "# for循环\n",
    "for i in range(10):\n",
    "    print(i)\n",
    "# 这会输出从0到9的数字"
   ]
  },
  {
   "cell_type": "markdown",
   "metadata": {},
   "source": [
    "这里就得让我们介绍一下 `range` 函数了\n",
    "\n",
    "它会返回一个 `迭代器` 但我们现不要在意迭代器是什么，只需要知道它会返回一个 `0-9`\n",
    "\n",
    "我相信你会有一个问题，为什么是 `0-9` 而不是 `0-10`呢。这是因为参数是返回迭代长度而非迭代到的值，它会从`0`开始，到`9`时，迭代器长度已经到了`10`\n",
    "\n",
    "[0, 1, 2, 3, 4, 5, 6, 7, 8, 9]， 像是这样，数字已经达到了10因此迭代器直接返回。\n",
    "\n",
    "接下来还有 `range` 的另一种用法"
   ]
  },
  {
   "cell_type": "code",
   "execution_count": null,
   "metadata": {},
   "outputs": [],
   "source": [
    "for i in range(10, 20):\n",
    "    print(i)\n",
    "# 这会输出从10到19的数字"
   ]
  },
  {
   "cell_type": "markdown",
   "metadata": {},
   "source": [
    "这里会从10开始到19， `range` 会先计算数字长度 `20 - 10 = 10` 因此长度为 `10`，接下来从 `10` 开始不断迭代，到19时长度足够，结束循环。\n",
    "\n",
    "那么我们有了循环这个工具，我们可以做的事情就变得多了，就比如`嵌套循环`"
   ]
  },
  {
   "cell_type": "code",
   "execution_count": null,
   "metadata": {},
   "outputs": [],
   "source": [
    "# 题目要求: 输出 1 到 100 的和\n",
    "sum = 0\n",
    "for i in range(1, 101): # 从1开始，到100结束，不包括101\n",
    "    sum += i\n",
    "print(sum)"
   ]
  },
  {
   "cell_type": "markdown",
   "metadata": {},
   "source": [
    "当然啦，正常情况下我们不会这么写，因为我们可以用高斯求和公式来快速获得结果，这里我们统称为算法。"
   ]
  },
  {
   "cell_type": "code",
   "execution_count": null,
   "metadata": {},
   "outputs": [],
   "source": [
    "# 题目要求: 输出 1 到 100 的和\n",
    "n = 100 # 最大值\n",
    "sum = n * (n + 1) // 2\n",
    "print(sum)"
   ]
  },
  {
   "cell_type": "markdown",
   "metadata": {},
   "source": [
    "我们该如何判断哪个算法更好呢，我们会计算大概的执行次数，第一段代码执行了100次在循环中，而第二段代码只执行了一次(单纯算术)因此第二段代码是第一段代码的____倍"
   ]
  },
  {
   "cell_type": "markdown",
   "metadata": {},
   "source": [
    "### while循环\n",
    "话不多说看示例"
   ]
  },
  {
   "cell_type": "code",
   "execution_count": null,
   "metadata": {},
   "outputs": [],
   "source": [
    "day = 0 # 天数\n",
    "money = 0 # 金钱\n",
    "dayMoneyOfJob = 100 # 日薪100块\n",
    "# 问题：如果每天的工资是100，帅高大大不吃不喝，一直工作，多少天才能成为百万富翁？\n",
    "while money < 1000000:\n",
    "    day += 1\n",
    "    money += dayMoneyOfJob\n",
    "print(day)"
   ]
  },
  {
   "cell_type": "markdown",
   "metadata": {},
   "source": [
    "这个循环也有更好的算法"
   ]
  },
  {
   "cell_type": "code",
   "execution_count": null,
   "metadata": {},
   "outputs": [],
   "source": [
    "day = 1000000 // 100\n",
    "print(day)"
   ]
  }
 ],
 "metadata": {
  "kernelspec": {
   "display_name": "env",
   "language": "python",
   "name": "python3"
  },
  "language_info": {
   "codemirror_mode": {
    "name": "ipython",
    "version": 3
   },
   "file_extension": ".py",
   "mimetype": "text/x-python",
   "name": "python",
   "nbconvert_exporter": "python",
   "pygments_lexer": "ipython3",
   "version": "3.12.1"
  }
 },
 "nbformat": 4,
 "nbformat_minor": 2
}
