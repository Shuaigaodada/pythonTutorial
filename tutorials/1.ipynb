{
 "cells": [
  {
   "cell_type": "markdown",
   "metadata": {},
   "source": [
    "# 大纲\n",
    "- [ ] 基础类型 & 变量赋值\n",
    "- [ ] 变量的应用\n",
    "- [ ] 输入/输出\n",
    "- [ ] 初见循环\n",
    "- [ ] for循环\n",
    "- [ ] while循环\n",
    "- [ ] 初见函数\n",
    "- [ ] 参数/函数定义\n",
    "- [ ] 字符串处理\n",
    "- [ ] 文件处理\n",
    "- [ ] 类 & 对象\n",
    "- [ ] 类函数\n",
    "- [ ] 初见列表\n",
    "- [ ] 列表处理\n",
    "- [ ] 初见字典\n",
    "- [ ] 字典处理\n",
    "- [ ] 字典运用\n",
    "- [ ] 类 & 字典\n",
    "- [ ] 类特殊函数\n",
    "- [ ] 类继承\n",
    "- [ ] 类\n",
    "- [ ] 认识错误\n",
    "- [ ] DEBUG\n",
    "- [ ] try & execpt(catch)\n",
    "- [ ] 实战应用\n",
    "------"
   ]
  },
  {
   "cell_type": "markdown",
   "metadata": {},
   "source": [
    "# 基础类型 & 变量赋值\n",
    "在编程中，制定一个目标很重要，例如完成一个程序，而这堂课程作为启蒙，将会以一个简单的文字PvP游戏作为目标，学习高深的知识，并且将游戏制作出来。\n",
    "\n",
    "既然以PvP作为目标，那么最重要的肯定是数值，而这些数值在编程中叫做 `数据(data)`，而我们常见的数据有\n",
    "- 整数(int)\n",
    "- 浮点数(float)\n",
    "- 字符串(str)\n",
    "- 列表(list)\n",
    "- 字典(dict)\n",
    "------\n",
    "在今天我们将会学习 `int, float, str`。\n",
    "在编程中，中文的特殊性，因此我们需要更多的使用英语进行编程，所以在这之后会使用，int, float, str来解释。\n",
    "\n",
    "首先我们最常见的数字就是 `int`，它代表着整数，我们可以储存我们游戏所需要的内容，\n",
    "比如 `玩家的血量`，那么我们在编程中的逻辑就是: `玩家的血量` 为 `114514`\n",
    "\n",
    "细心可以发现这个类型它是一个整数，那如果我们需要计算暴击概率等等的数据呢？这些需要小数的计算我们就会用到我们的浮点数`float`，\n",
    "不难理解，浮点数其实就是带小数的数字，但如果使用 `int` 和 `float` 相加，在python中整数会自动转换为浮点数"
   ]
  },
  {
   "cell_type": "code",
   "execution_count": 2,
   "metadata": {},
   "outputs": [
    {
     "data": {
      "text/plain": [
       "2.0"
      ]
     },
     "execution_count": 2,
     "metadata": {},
     "output_type": "execute_result"
    }
   ],
   "source": [
    "1 + 0.5"
   ]
  },
  {
   "cell_type": "markdown",
   "metadata": {},
   "source": [
    "为了符合我们人类的逻辑，`1 + 0.5` 不可能是一个整数，所以它会自动转换为浮点数。因此用这个逻辑，我们 `1 + 1.0` 得到的数字也会是 `2.0` 而不是 `2`。在编程中，`int`和`float`区别很大，因此不要弄混。\n",
    "\n",
    "最后是字符串，我们显示给用户的每一句话其实都是一个字符串数据，它仅仅就是储存在计算机上的一段话，在需要的时候显示给用户。\n",
    "\n",
    "------\n",
    "那么接下来，我们来了解一下什么是 `赋值`。\n",
    "\n",
    "赋值和我们刚才设定玩家血量一样 `玩家血量` 为 `1000`，那么转换为编程是这样的:"
   ]
  },
  {
   "cell_type": "code",
   "execution_count": null,
   "metadata": {},
   "outputs": [],
   "source": [
    "playerHealth = 1000"
   ]
  },
  {
   "cell_type": "markdown",
   "metadata": {},
   "source": [
    "这里的 playerHealth 是 玩家血量的英文，而等号则是我们将 `1000` 这个数值赋值到 `playerHealth`，告诉计算机 `playerHealth` 它是整数 `1000`。\n",
    "\n",
    "赋值操作我们可以记住以下公式: \n",
    "变量名称 = 数值\n",
    "\n",
    "变量名称可以是任何名字，它可以叫做`x`也可以叫做`python`任何的名称，但变量名称依旧有一些规则。\n",
    "\n",
    "\n",
    "玩家血量实际上的英语是 `player health` 但是这里写成了 `playerHealth`，因为变量中，连在一起的英语才被认为是一个变量，所以我们使用了`小驼峰命名法`，将 `玩家(player)` 和 `血量(health)` 组合到一起，并且将h设置为大写来更好的区分两个单词。\n",
    "\n",
    "变量还有几个简单的规则:\n",
    "- 不能以数字作为变量开头\n",
    "- 中间不能穿插除了`_`以外的任何符号\n",
    "- 命名尽量贴合数据本身并且尽量使用命名法则\n",
    "----\n",
    "前面两点很好理解，那么我来解释一下最后一点。\n",
    "\n",
    "在我们的PvP游戏中有很多的数据，比如`玩家血量`，`玩家攻击力`，`玩家防御力`，`暴击力`，`速度`等等数据，因此我们需要使用贴切的变量名称来储存这些数据，假设我们取名为 `x`, `y`, `z` 或者是 `a`, `b`, `c` 这会导致我们无法区分这些数据。因此我们命名需要设置为 `playerHealth`，`playerAttack` 又或者 `HP`, `AP` 这些让人理解的名词。\n",
    "\n",
    "那么对于多个单词的句子呢？还是用我们的`玩家血量`举例，如果写成`userhealth`会比较难以阅读，这只是两个单词，如果遇见三个，四个或者更多会无法阅读。下面是三种命名法则：\n",
    "- 下划线命名法 `player_health`\n",
    "- 小驼峰命名法 `playerHealth`\n",
    "- 大驼峰命名法 `PlayerHealth`\n",
    "----\n",
    "我们刚才介绍的都是血量，攻击力，在战斗中会改变的数值，比如在战斗中，敌方使用 `弱化` 等技能会导致攻击力，生命值下降。\n",
    "\n",
    "那么我们来介绍下 `不变量` 或者学术的名称 `常量(const)`，不变量的意思就是`不会变的量值`，比如`英雄的名称`是确定的，永远不会被改变，也不应该被改变。我们有对于常量的一种命名规则，它可以提醒我们永远不要修改这个常量。"
   ]
  },
  {
   "cell_type": "code",
   "execution_count": null,
   "metadata": {},
   "outputs": [],
   "source": [
    "PLAYER_NAME = \"Player 1\""
   ]
  },
  {
   "cell_type": "markdown",
   "metadata": {},
   "source": [
    "那么最后介绍一下字符串\n",
    "\n",
    "在最开始很多人会搞混以下两串代码\n",
    "```python\n",
    "playerHealth\n",
    "\"playerHealth\"\n",
    "```\n",
    "在这里 `playerHealth` 是一个变量，而 `\"playerHealth\"` 是一个 `str`，所有被引号包围的文字都是字符串而不是代码，它们完全不相同。\n",
    "\n",
    "## 总结\n",
    "今天的课程我们学习了\n",
    "- int\n",
    "- float\n",
    "- str\n",
    "- 变量赋值\n",
    "- 命名法则\n",
    "\n",
    "\n",
    "最后有一些课后作业在 ./assignments/assign1.py 中。"
   ]
  }
 ],
 "metadata": {
  "kernelspec": {
   "display_name": "env",
   "language": "python",
   "name": "python3"
  },
  "language_info": {
   "codemirror_mode": {
    "name": "ipython",
    "version": 3
   },
   "file_extension": ".py",
   "mimetype": "text/x-python",
   "name": "python",
   "nbconvert_exporter": "python",
   "pygments_lexer": "ipython3",
   "version": "3.12.1"
  }
 },
 "nbformat": 4,
 "nbformat_minor": 2
}
